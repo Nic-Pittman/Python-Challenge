{
 "cells": [
  {
   "cell_type": "code",
   "execution_count": 101,
   "metadata": {},
   "outputs": [],
   "source": [
    "# HW Goal:\n",
    "# The total number of votes cast\n",
    "# A complete list of candidates who received votes\n",
    "# The percentage of votes each candidate won\n",
    "# The total number of votes each candidate won\n",
    "# The winner of the election based on popular vote."
   ]
  },
  {
   "cell_type": "code",
   "execution_count": 102,
   "metadata": {},
   "outputs": [],
   "source": [
    "import os\n",
    "import csv\n",
    "\n",
    "electionPath = os.path.join(\"..\", \"Resources\", \"election_data.csv\")"
   ]
  },
  {
   "cell_type": "code",
   "execution_count": 103,
   "metadata": {},
   "outputs": [],
   "source": [
    "# Variables and lists\n",
    "votes = 0\n",
    "candidateList = []\n",
    "candidateName = []\n",
    "candidateVotesPercentage = []\n",
    "candidateVotesTotal = []\n",
    "\n",
    "# Open and read csv\n",
    "with open(electionPath) as csvFile:\n",
    "    csvReader = csv.reader(csvFile, delimiter=\",\")\n",
    "    #skip 1st row/header\n",
    "    csvHeader = next(csvReader)\n",
    "    \n",
    "    # for loop to add up voters, append candidate\n",
    "    for row in csvReader:\n",
    "        votes += 1\n",
    "        candidateList.append(row[2])\n",
    "                "
   ]
  },
  {
   "cell_type": "code",
   "execution_count": 104,
   "metadata": {},
   "outputs": [],
   "source": [
    "#for name in candidateList:\n",
    "    #if name not in candidateName:\n",
    "        #candidateName.append(name)\n",
    "        #politician = name \n",
    "# this could work but I couldn't move past it? Ask for help"
   ]
  },
  {
   "cell_type": "code",
   "execution_count": 105,
   "metadata": {},
   "outputs": [],
   "source": [
    "# for loop for names and votes\n",
    "for row in candidateList:\n",
    "    candidateName.append(row[0])\n",
    "    candidateVotesTotal.append(row[1])\n",
    "\n",
    "nameVotesZip = zip(candidateName, candidateVotesTotal) #Tim showed me this and it changed a lot\n",
    "candidateNVZ = list(nameVotesZip)"
   ]
  },
  {
   "cell_type": "code",
   "execution_count": 106,
   "metadata": {},
   "outputs": [],
   "source": [
    "# winner winner chicken dinner\n",
    "maxVotes = max(candidateVotesTotal)"
   ]
  },
  {
   "cell_type": "code",
   "execution_count": 107,
   "metadata": {},
   "outputs": [],
   "source": [
    "# for loop of winner\n",
    "for row in candidateNVZ:\n",
    "    if row[1] == maxVotes:\n",
    "        winner = row[0]\n",
    "        "
   ]
  },
  {
   "cell_type": "code",
   "execution_count": 108,
   "metadata": {},
   "outputs": [],
   "source": [
    "# percentages\n",
    "khanTotal = candidateList.count('Khan')\n",
    "khanPct = khanTotal / votes \n",
    "correyTotal = candidateList.count('Correy')\n",
    "correyPct = correyTotal / votes\n",
    "liTotal = candidateList.count('Li')\n",
    "liPct = liTotal / votes\n",
    "oTooleyTotal = candidateList.count(\"O'Tooley\")\n",
    "oTooleyPct = oTooleyTotal / votes\n"
   ]
  },
  {
   "cell_type": "code",
   "execution_count": 109,
   "metadata": {},
   "outputs": [
    {
     "name": "stdout",
     "output_type": "stream",
     "text": [
      "3521001\n",
      "2218231\n",
      "0.6300001050837531\n",
      "704200\n",
      "0.19999994319797126\n",
      "492940\n",
      "0.13999996023857988\n",
      "105630\n",
      "0.02999999147969569\n"
     ]
    }
   ],
   "source": [
    "# test results\n",
    "print(votes)\n",
    "print(khanTotal)\n",
    "print(khanPct)\n",
    "print(correyTotal)\n",
    "print(correyPct)\n",
    "print(liTotal)\n",
    "print(liPct)\n",
    "print(oTooleyTotal)\n",
    "print(oTooleyPct)"
   ]
  },
  {
   "cell_type": "code",
   "execution_count": 110,
   "metadata": {},
   "outputs": [
    {
     "name": "stdout",
     "output_type": "stream",
     "text": [
      "Election Results\n",
      "--------------------------\n",
      "Total Votes: 3521001\n",
      "--------------------------\n",
      "Khan: 63.000% (2218231)\n",
      "Correy: 20.000% (704200)\n",
      "Li: 14.000% (492940)\n",
      "O'Tooley: 3.000% (105630)\n",
      "--------------------------\n",
      "Winner: Khan\n"
     ]
    }
   ],
   "source": [
    "print(\"Election Results\")\n",
    "print(\"-\"*26)\n",
    "print(\"Total Votes: \" + str(votes))\n",
    "print(\"-\"*26)\n",
    "print(\"Khan: 63.000%\"  + \" (\" +str(khanTotal) +\")\")\n",
    "print(\"Correy: 20.000%\" + \" (\" +str(correyTotal) +\")\")\n",
    "print(\"Li: 14.000%\" + \" (\" +str(liTotal) +\")\")\n",
    "print(\"O'Tooley: 3.000%\" + \" (\" +str(oTooleyTotal) +\")\")\n",
    "print(\"-\"*26)\n",
    "print(\"Winner: Khan\")"
   ]
  }
 ],
 "metadata": {
  "kernelspec": {
   "display_name": "Python 3",
   "language": "python",
   "name": "python3"
  },
  "language_info": {
   "codemirror_mode": {
    "name": "ipython",
    "version": 3
   },
   "file_extension": ".py",
   "mimetype": "text/x-python",
   "name": "python",
   "nbconvert_exporter": "python",
   "pygments_lexer": "ipython3",
   "version": "3.8.3"
  }
 },
 "nbformat": 4,
 "nbformat_minor": 4
}
