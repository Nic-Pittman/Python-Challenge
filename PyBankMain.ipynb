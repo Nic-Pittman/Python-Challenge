{
 "cells": [
  {
   "cell_type": "code",
   "execution_count": null,
   "metadata": {},
   "outputs": [],
   "source": [
    "import os\n",
    "import csv"
   ]
  },
  {
   "cell_type": "code",
   "execution_count": null,
   "metadata": {},
   "outputs": [],
   "source": [
    "budgetPath = os.path.join(\"..\", \"Resources\", \"budget_data.csv\")"
   ]
  },
  {
   "cell_type": "code",
   "execution_count": null,
   "metadata": {},
   "outputs": [],
   "source": [
    "#HW goal: \n",
    "    #The total number of months included in the dataset\n",
    "    #The net total amount of \"Profit/Losses\" over the entire period\n",
    "    #The average of the changes in \"Profit/Losses\" over the entire period\n",
    "    #The greatest increase in profits (date and amount) over the entire period\n",
    "    #The greatest decrease in losses (date and amount) over the entire period\n",
    "    \n",
    "#Note to self - \"#'ed out lists/variables/lines below are things I tried and kind of worked but didn't use\"\n",
    "    \n",
    "# Set variables and lists\n",
    "date = []\n",
    "profitLoss = []\n",
    "dateChanges = []\n",
    "totalProfit = 0\n",
    "totalLoss = 0\n",
    "profit = 0\n",
    "total = 0\n",
    "months = 0\n",
    "#dateList = []\n",
    "\n",
    "# Open and read csv\n",
    "with open(budgetPath) as csvFile:\n",
    "    csvReader = csv.reader(csvFile, delimiter=\",\")\n",
    "    #skip 1st row/header\n",
    "    csvHeader = next(csvReader)\n",
    "    \n",
    "    #for loop list appends and total calculation\n",
    "    for row in csvReader:\n",
    "        date.append(row[0])\n",
    "        #dateList.append(row[0])\n",
    "        months += 1\n",
    "        profitLoss.append(row[1])\n",
    "        profit = int(row[1])\n",
    "        if profit > 0:\n",
    "            totalProfit += profit\n",
    "        elif profit < 0:\n",
    "            totalLoss += profit\n",
    "    total = totalProfit + totalLoss\n",
    "    \n"
   ]
  },
  {
   "cell_type": "code",
   "execution_count": null,
   "metadata": {},
   "outputs": [],
   "source": [
    "#total number of months in the date column \n",
    "#months = len(date)\n",
    "\n",
    "        "
   ]
  },
  {
   "cell_type": "code",
   "execution_count": null,
   "metadata": {},
   "outputs": [],
   "source": [
    "# month profitLoss value\n",
    "MPL = int(profitLoss[0])\n",
    "\n",
    "# for loop of monthly change list\n",
    "for meany in range(1, len(profitLoss)):\n",
    "    dateChanges.append(int(profitLoss[meany]) - MPL)\n",
    "    MPL = int(profitLoss[meany])\n",
    "    meany += 1\n",
    "    \n",
    "averageChange = sum(dateChanges) / len(dateChanges)"
   ]
  },
  {
   "cell_type": "code",
   "execution_count": 135,
   "metadata": {},
   "outputs": [],
   "source": [
    "# greatestIncrease and greatestDecrease from dateChanges\n",
    "greatestIncrease = max(dateChanges)\n",
    "greatestDecrease = min(dateChanges)\n",
    "\n",
    "#for loop to match the greatestIncrease&Decrease to their months\n",
    "for monthy in range(len(dateChanges)):\n",
    "    if dateChanges[monthy] == greatestIncrease:\n",
    "        increaseMonth = (monthy)\n",
    "    if dateChanges[monthy] == greatestDecrease:\n",
    "        decreaseMonth = (monthy)\n",
    "    else:\n",
    "        monthy += 1\n",
    "\n",
    "greatestIncrease = dateChanges[increaseMonth]\n",
    "greatestDecrease = dateChanges[decreaseMonth]\n",
    "#greatestIncreaseDate = date[dateChanges.index(greatestIncrease)] \n",
    "#greatestDecreaseDate = date[dateChanges.index(greatestDecrease)]"
   ]
  },
  {
   "cell_type": "code",
   "execution_count": 136,
   "metadata": {},
   "outputs": [
    {
     "name": "stdout",
     "output_type": "stream",
     "text": [
      "86\n",
      "38382578\n",
      "-2315.1176470588234\n",
      "1926159\n",
      "-2196167\n",
      "Jan-2012\n",
      "Aug-2013\n"
     ]
    }
   ],
   "source": [
    "#testing results\n",
    "print(months)\n",
    "print(total)\n",
    "print(averageChange)\n",
    "print(greatestIncrease)\n",
    "print(greatestDecrease)\n",
    "print(greatestIncreaseDate)\n",
    "print(greatestDecreaseDate)"
   ]
  },
  {
   "cell_type": "code",
   "execution_count": 141,
   "metadata": {},
   "outputs": [
    {
     "name": "stdout",
     "output_type": "stream",
     "text": [
      "Financial Analysis\n",
      "------------------------------------------------------------------\n",
      "The total number of months = 86\n",
      "The net total amount of Profit/Losses = $38382578\n",
      "The average of the changes in Profit/Losses = $-2315.1176470588234\n",
      "The greatest increase in profits = Jan-2012 $1926159\n",
      "The greatest decrease in losses = Aug-2013 $-2196167\n"
     ]
    }
   ],
   "source": [
    "print(\"Financial Analysis\")\n",
    "print(\"-\"*66)\n",
    "print(\"The total number of months = \" + str(months))\n",
    "print(\"The net total amount of Profit/Losses = $\" +str(total))\n",
    "print(\"The average of the changes in Profit/Losses = $\" +str(averageChange))\n",
    "print(\"The greatest increase in profits = \" + str(greatestIncreaseDate) +\" $ \" + str(greatestIncrease))\n",
    "print(\"The greatest decrease in losses = \" + str(greatestDecreaseDate) + \" $ \" + str(greatestDecrease))"
   ]
  },
  {
   "cell_type": "code",
   "execution_count": null,
   "metadata": {},
   "outputs": [],
   "source": []
  }
 ],
 "metadata": {
  "kernelspec": {
   "display_name": "Python 3",
   "language": "python",
   "name": "python3"
  },
  "language_info": {
   "codemirror_mode": {
    "name": "ipython",
    "version": 3
   },
   "file_extension": ".py",
   "mimetype": "text/x-python",
   "name": "python",
   "nbconvert_exporter": "python",
   "pygments_lexer": "ipython3",
   "version": "3.8.3"
  }
 },
 "nbformat": 4,
 "nbformat_minor": 4
}
